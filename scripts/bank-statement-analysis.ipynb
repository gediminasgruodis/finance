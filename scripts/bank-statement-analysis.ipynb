{
 "cells": [
  {
   "cell_type": "code",
   "execution_count": null,
   "metadata": {},
   "outputs": [],
   "source": [
    "import pandas as pd\n",
    "\n",
    "# Read CSV file\n",
    "file_path = r'C:\\bank-statement\\statement.csv'\n",
    "data = pd.read_csv(file_path)\n",
    "\n",
    "data['TransactionType'] = data['D/K'].apply(lambda x: 'Income' if x == 'K' else 'Expense')\n",
    "\n",
    "# Filter out rows with 'K' values in 'Kodas' column\n",
    "\n",
    "data = data[data['Kodas'] != 'AS']\n",
    "data = data[data['Kodas'] != 'K2']\n",
    "data = data[data['Kodas'] != 'LS']\n",
    "\n",
    "\n",
    "\n",
    "# Convert the 'Date' column to a datetime format\n",
    "data['Data'] = pd.to_datetime(data['Data'])\n",
    "\n",
    "# Filter data for the year 2023\n",
    "data_2023 = data[(data['Data'].dt.year == 2023) & (data['TransactionType'].isin(['Income', 'Expense']))]\n",
    "\n",
    "# Create a new column 'Month' to extract the month from the 'Date' column\n",
    "data_2023['Month'] = data_2023['Data'].dt.strftime('%Y-%m')\n",
    "\n",
    "summary = data_2023.pivot_table(index='TransactionType', columns='Month', values='Suma', aggfunc='sum', fill_value=0)\n",
    "summary"
   ]
  },
  {
   "cell_type": "code",
   "execution_count": null,
   "metadata": {},
   "outputs": [],
   "source": []
  }
 ],
 "metadata": {
  "kernelspec": {
   "display_name": "Python 3",
   "language": "python",
   "name": "python3"
  },
  "language_info": {
   "codemirror_mode": {
    "name": "ipython",
    "version": 3
   },
   "file_extension": ".py",
   "mimetype": "text/x-python",
   "name": "python",
   "nbconvert_exporter": "python",
   "pygments_lexer": "ipython3",
   "version": "3.8.5"
  }
 },
 "nbformat": 4,
 "nbformat_minor": 4
}
