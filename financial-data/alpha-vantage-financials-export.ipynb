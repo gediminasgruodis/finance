{
 "cells": [
  {
   "cell_type": "markdown",
   "metadata": {},
   "source": [
    "# Alpha Vantage Financials Export"
   ]
  },
  {
   "cell_type": "markdown",
   "metadata": {},
   "source": [
    "The script uses Alpha Vantage API to export financials data for a selected company"
   ]
  },
  {
   "cell_type": "code",
   "execution_count": null,
   "metadata": {},
   "outputs": [],
   "source": [
    "#Import libraries\n",
    "import requests\n",
    "import pandas as pd"
   ]
  },
  {
   "cell_type": "markdown",
   "metadata": {},
   "source": [
    "### Income Statement"
   ]
  },
  {
   "cell_type": "code",
   "execution_count": 16,
   "metadata": {},
   "outputs": [
    {
     "name": "stdout",
     "output_type": "stream",
     "text": [
      "  fiscalDateEnding reportedCurrency  grossProfit totalRevenue costOfRevenue  \\\n",
      "0       2022-12-31              USD  16341000000  23278000000    6937000000   \n",
      "1       2021-12-31              USD  12965000000  19042000000    6077000000   \n",
      "2       2020-12-31              USD  10844000000  16976000000    6132000000   \n",
      "3       2019-12-31              USD  11221000000  17604000000    6383000000   \n",
      "4       2018-12-31              USD   9856000000  15558000000    5702000000   \n",
      "\n",
      "  costofGoodsAndServicesSold operatingIncome sellingGeneralAndAdministrative  \\\n",
      "0                10817000000      4081000000                      2289000000   \n",
      "1                 8480000000      2913000000                      2012000000   \n",
      "2                 7290000000      5116000000                      1911000000   \n",
      "3                 8003000000      5353000000                      1888000000   \n",
      "4                 7062000000      4280000000                      1590000000   \n",
      "\n",
      "  researchAndDevelopment operatingExpenses  ... depreciation  \\\n",
      "0                   None       17397000000  ...         None   \n",
      "1                   None       14233000000  ...         None   \n",
      "2                   None       13234000000  ...         None   \n",
      "3                   None       14257000000  ...         None   \n",
      "4                   None       12527000000  ...         None   \n",
      "\n",
      "  depreciationAndAmortization incomeBeforeTax incomeTaxExpense  \\\n",
      "0                  4503000000      4733000000        586000000   \n",
      "1                  3924000000      3921000000        348000000   \n",
      "2                  4052000000      2963000000         44000000   \n",
      "3                  4216000000      4217000000        448000000   \n",
      "4                  3911000000      8214000000       1576000000   \n",
      "\n",
      "  interestAndDebtExpense netIncomeFromContinuingOperations  \\\n",
      "0                   None                        3246000000   \n",
      "1                   None                        2827000000   \n",
      "2                   None                        2369000000   \n",
      "3                   None                        3388000000   \n",
      "4                   None                        5776000000   \n",
      "\n",
      "  comprehensiveIncomeNetOfTax        ebit      ebitda   netIncome  \n",
      "0                  3929000000  4081000000  8584000000  4147000000  \n",
      "1                  3665000000  2913000000  6837000000  3573000000  \n",
      "2                  2996000000  5116000000  9168000000  2919000000  \n",
      "3                  3789000000  5353000000  9569000000  3769000000  \n",
      "4                  6667000000  4280000000  8191000000  6638000000  \n",
      "\n",
      "[5 rows x 26 columns]\n"
     ]
    }
   ],
   "source": [
    "# Replace with Alpha Vantage API key\n",
    "api_key = '9Q7F8XR7UJCRZ1RN'\n",
    "\n",
    "# Replace with stock ticker\n",
    "ticker = 'NEE'\n",
    "\n",
    "# Format the URL with the correct ticker and API key\n",
    "url = f'https://www.alphavantage.co/query?function=INCOME_STATEMENT&symbol={ticker}&apikey={api_key}'\n",
    "\n",
    "# Make the API call\n",
    "response = requests.get(url)\n",
    "data = response.json()\n",
    "\n",
    "# Extract the relevant data from the response\n",
    "income_statement_data = data['annualReports']  # Adjust 'quarterlyReports' to 'annualReports' for yearly data\n",
    "\n",
    "# Create a DataFrame from the data\n",
    "df_is = pd.DataFrame(income_statement_data)\n",
    "\n",
    "# Print the DataFrame\n",
    "print(df_is)"
   ]
  },
  {
   "cell_type": "markdown",
   "metadata": {},
   "source": [
    "### Balance Sheet"
   ]
  },
  {
   "cell_type": "code",
   "execution_count": 17,
   "metadata": {},
   "outputs": [
    {
     "name": "stdout",
     "output_type": "stream",
     "text": [
      "  fiscalDateEnding reportedCurrency   totalAssets totalCurrentAssets  \\\n",
      "0       2022-12-31              USD  158935000000        13490000000   \n",
      "1       2021-12-31              USD  140912000000         9288000000   \n",
      "2       2020-12-31              USD  127684000000         7382000000   \n",
      "3       2019-12-31              USD  117691000000         7408000000   \n",
      "4       2018-12-31              USD  103702000000         6393000000   \n",
      "\n",
      "  cashAndCashEquivalentsAtCarryingValue cashAndShortTermInvestments  \\\n",
      "0                            1601000000                  1601000000   \n",
      "1                             639000000                   639000000   \n",
      "2                            1105000000                  1105000000   \n",
      "3                             600000000                   600000000   \n",
      "4                             638000000                   638000000   \n",
      "\n",
      "    inventory currentNetReceivables totalNonCurrentAssets  \\\n",
      "0  1934000000            5187000000          145445000000   \n",
      "1  1561000000            4221000000          131624000000   \n",
      "2  1552000000            3042000000          120302000000   \n",
      "3  1328000000            2807000000          110283000000   \n",
      "4  1223000000            2969000000           26975000000   \n",
      "\n",
      "  propertyPlantEquipment  ... currentLongTermDebt longTermDebtNoncurrent  \\\n",
      "0           111059000000  ...          6633000000            55256000000   \n",
      "1            99348000000  ...          1785000000            50960000000   \n",
      "2            91803000000  ...          4138000000            41944000000   \n",
      "3            82010000000  ...          2124000000            37543000000   \n",
      "4            70334000000  ...          2716000000            26782000000   \n",
      "\n",
      "  shortLongTermDebtTotal otherCurrentLiabilities otherNonCurrentLiabilities  \\\n",
      "0            32807000000              3182000000                 2696000000   \n",
      "1            23791000000              2695000000                 2468000000   \n",
      "2            23151000000              2256000000                 2242000000   \n",
      "3            16061000000              2309000000                 1831000000   \n",
      "4            15921000000              1130000000                 1449000000   \n",
      "\n",
      "  totalShareholderEquity treasuryStock retainedEarnings commonStock  \\\n",
      "0            39229000000          None      26707000000    20000000   \n",
      "1            37202000000          None      25911000000    20000000   \n",
      "2            36513000000          None      25363000000    20000000   \n",
      "3            37005000000          None      25199000000    20000000   \n",
      "4            34144000000          None      23837000000     5000000   \n",
      "\n",
      "  commonStockSharesOutstanding  \n",
      "0                   1987000000  \n",
      "1                   1963000000  \n",
      "2                   1960000000  \n",
      "3                    489000000  \n",
      "4                    478000000  \n",
      "\n",
      "[5 rows x 38 columns]\n"
     ]
    }
   ],
   "source": [
    "# Replace with Alpha Vantage API key\n",
    "api_key = '9Q7F8XR7UJCRZ1RN'\n",
    "\n",
    "# Replace with stock ticker\n",
    "ticker = 'NEE'\n",
    "\n",
    "# Format the URL with the correct ticker and API key\n",
    "url = f'https://www.alphavantage.co/query?function=BALANCE_SHEET&symbol={ticker}&apikey={api_key}'\n",
    "\n",
    "# Make the API call\n",
    "response = requests.get(url)\n",
    "data = response.json()\n",
    "\n",
    "# Extract the relevant data from the response\n",
    "income_statement_data = data['annualReports']  # Adjust 'quarterlyReports' to 'annualReports' for yearly data\n",
    "\n",
    "# Create a DataFrame from the data\n",
    "df_bs = pd.DataFrame(income_statement_data)\n",
    "\n",
    "# Print the DataFrame\n",
    "print(df_bs)"
   ]
  },
  {
   "cell_type": "markdown",
   "metadata": {},
   "source": [
    "### Cash Flows"
   ]
  },
  {
   "cell_type": "code",
   "execution_count": 18,
   "metadata": {},
   "outputs": [
    {
     "name": "stdout",
     "output_type": "stream",
     "text": [
      "  fiscalDateEnding reportedCurrency operatingCashflow  \\\n",
      "0       2022-12-31              USD        8262000000   \n",
      "1       2021-12-31              USD        7553000000   \n",
      "2       2020-12-31              USD        7983000000   \n",
      "3       2019-12-31              USD        8155000000   \n",
      "4       2018-12-31              USD        6593000000   \n",
      "\n",
      "  paymentsForOperatingActivities proceedsFromOperatingActivities  \\\n",
      "0                     1375000000                            None   \n",
      "1                     1323000000                            None   \n",
      "2                     1432000000                            None   \n",
      "3                     1799000000                            None   \n",
      "4                     1209000000                            None   \n",
      "\n",
      "  changeInOperatingLiabilities changeInOperatingAssets  \\\n",
      "0                   1841000000              2240000000   \n",
      "1                   1105000000              1729000000   \n",
      "2                     -6000000               667000000   \n",
      "3                    347000000               150000000   \n",
      "4                    246000000               851000000   \n",
      "\n",
      "  depreciationDepletionAndAmortization capitalExpenditures  \\\n",
      "0                             18000000          9742000000   \n",
      "1                             25000000          7830000000   \n",
      "2                             27000000          7759000000   \n",
      "3                             18000000         11077000000   \n",
      "4                             19000000          6010000000   \n",
      "\n",
      "  changeInReceivables  ... dividendPayoutCommonStock  \\\n",
      "0                None  ...                3352000000   \n",
      "1                None  ...                3024000000   \n",
      "2                None  ...                2743000000   \n",
      "3                None  ...                2408000000   \n",
      "4                None  ...                2101000000   \n",
      "\n",
      "  dividendPayoutPreferredStock proceedsFromIssuanceOfCommonStock  \\\n",
      "0                         None                        1460000000   \n",
      "1                         None                          14000000   \n",
      "2                         None                              None   \n",
      "3                         None                        1494000000   \n",
      "4                         None                         718000000   \n",
      "\n",
      "  proceedsFromIssuanceOfLongTermDebtAndCapitalSecuritiesNet  \\\n",
      "0                                        13856000000          \n",
      "1                                        16683000000          \n",
      "2                                        12404000000          \n",
      "3                                        13919000000          \n",
      "4                                         4399000000          \n",
      "\n",
      "  proceedsFromIssuanceOfPreferredStock proceedsFromRepurchaseOfEquity  \\\n",
      "0                                 None                     1460000000   \n",
      "1                                 None                       14000000   \n",
      "2                                 None                              0   \n",
      "3                                 None                     1494000000   \n",
      "4                                 None                      718000000   \n",
      "\n",
      "  proceedsFromSaleOfTreasuryStock changeInCashAndCashEquivalents  \\\n",
      "0                            None                     2132000000   \n",
      "1                            None                     -231000000   \n",
      "2                            None                      458000000   \n",
      "3                            None                    -4149000000   \n",
      "4                            None                     3277000000   \n",
      "\n",
      "  changeInExchangeRate   netIncome  \n",
      "0                 None  4147000000  \n",
      "1                 None  3573000000  \n",
      "2                 None  2919000000  \n",
      "3                 None  3769000000  \n",
      "4                 None  6638000000  \n",
      "\n",
      "[5 rows x 29 columns]\n"
     ]
    }
   ],
   "source": [
    "# Replace with Alpha Vantage API key\n",
    "api_key = '9Q7F8XR7UJCRZ1RN'\n",
    "\n",
    "# Replace with stock ticker\n",
    "ticker = 'NEE'\n",
    "\n",
    "# Format the URL with the correct ticker and API key\n",
    "url = f'https://www.alphavantage.co/query?function=CASH_FLOW&symbol={ticker}&apikey={api_key}'\n",
    "\n",
    "# Make the API call\n",
    "response = requests.get(url)\n",
    "data = response.json()\n",
    "\n",
    "# Extract the relevant data from the response\n",
    "income_statement_data = data['annualReports']  # Adjust 'quarterlyReports' to 'annualReports' for yearly data\n",
    "\n",
    "# Create a DataFrame from the data\n",
    "df_cf = pd.DataFrame(income_statement_data)\n",
    "\n",
    "# Print the DataFrame\n",
    "print(df_cf)"
   ]
  },
  {
   "cell_type": "markdown",
   "metadata": {},
   "source": [
    "### Export Data to Excel"
   ]
  },
  {
   "cell_type": "code",
   "execution_count": 19,
   "metadata": {},
   "outputs": [
    {
     "name": "stdout",
     "output_type": "stream",
     "text": [
      "DataFrames exported to 'NEE.xlsx' successfully.\n"
     ]
    }
   ],
   "source": [
    "# Create a Pandas Excel writer using the desired file name based on the ticker value\n",
    "file_name = f\"{ticker}.xlsx\"\n",
    "writer = pd.ExcelWriter(file_name, engine='xlsxwriter')\n",
    "\n",
    "# Export each DataFrame to a separate sheet in the Excel file\n",
    "df_is.to_excel(writer, sheet_name='IS', index=False)\n",
    "df_bs.to_excel(writer, sheet_name='BS', index=False)\n",
    "df_cf.to_excel(writer, sheet_name='CF', index=False)\n",
    "\n",
    "# Close the Pandas Excel writer and save the file\n",
    "writer.save()\n",
    "\n",
    "print(f\"DataFrames exported to '{file_name}' successfully.\")"
   ]
  }
 ],
 "metadata": {
  "kernelspec": {
   "display_name": "Python 3",
   "language": "python",
   "name": "python3"
  },
  "language_info": {
   "codemirror_mode": {
    "name": "ipython",
    "version": 3
   },
   "file_extension": ".py",
   "mimetype": "text/x-python",
   "name": "python",
   "nbconvert_exporter": "python",
   "pygments_lexer": "ipython3",
   "version": "3.8.5"
  }
 },
 "nbformat": 4,
 "nbformat_minor": 4
}
